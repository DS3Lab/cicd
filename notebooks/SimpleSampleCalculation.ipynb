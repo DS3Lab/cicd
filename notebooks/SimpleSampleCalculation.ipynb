{
 "cells": [
  {
   "cell_type": "markdown",
   "id": "db3ab8b1",
   "metadata": {},
   "source": [
    "# Calculate sample size"
   ]
  },
  {
   "cell_type": "markdown",
   "id": "b26c9fcd",
   "metadata": {},
   "source": [
    "This notebook presents a simple example that evaluates the required number of samples given a config file"
   ]
  },
  {
   "cell_type": "code",
   "execution_count": 1,
   "id": "c26fe1a4",
   "metadata": {},
   "outputs": [],
   "source": [
    "from easeml_cicd.core.utils import SampleCalculator"
   ]
  },
  {
   "cell_type": "code",
   "execution_count": 2,
   "id": "8b7a1d7b",
   "metadata": {},
   "outputs": [],
   "source": [
    "# location of cicd config file\n",
    "config_path=\".easeml.yml\""
   ]
  },
  {
   "cell_type": "markdown",
   "id": "3e81c70f",
   "metadata": {},
   "source": [
    "Config entries such as script, data_mode, and email are used for when the CI&CD service is deployed, in this example these values are not used"
   ]
  },
  {
   "cell_type": "code",
   "execution_count": 3,
   "id": "aeabcaab",
   "metadata": {},
   "outputs": [
    {
     "name": "stdout",
     "output_type": "stream",
     "text": [
      "ml:\n",
      "- script : ./evaluate_model.py\n",
      "- condition : n - o > 0.1 +/- 0.1\n",
      "- reliability: 0.99\n",
      "- mode : fp-free\n",
      "- adaptivity : full\n",
      "- steps : 32\n",
      "- data_mode : local\n",
      "- email: leonel@email.com\n",
      "\n"
     ]
    }
   ],
   "source": [
    "with open(config_path, 'r') as f:\n",
    "    print(f.read())"
   ]
  },
  {
   "cell_type": "code",
   "execution_count": 4,
   "id": "52706306",
   "metadata": {},
   "outputs": [],
   "source": [
    "sc=SampleCalculator(\".easeml.yml\")"
   ]
  },
  {
   "cell_type": "code",
   "execution_count": 5,
   "id": "b818a2f0",
   "metadata": {},
   "outputs": [
    {
     "name": "stdout",
     "output_type": "stream",
     "text": [
      " Adaptivity type: full\n",
      " Conditions Evaluated: n-o>0.1+/-0.1\n"
     ]
    },
    {
     "data": {
      "text/plain": [
       "5496"
      ]
     },
     "execution_count": 5,
     "metadata": {},
     "output_type": "execute_result"
    }
   ],
   "source": [
    "sc.calculate_n()"
   ]
  },
  {
   "cell_type": "code",
   "execution_count": null,
   "id": "f765f225",
   "metadata": {},
   "outputs": [],
   "source": []
  }
 ],
 "metadata": {
  "kernelspec": {
   "display_name": "Python 3",
   "language": "python",
   "name": "python3"
  },
  "language_info": {
   "codemirror_mode": {
    "name": "ipython",
    "version": 3
   },
   "file_extension": ".py",
   "mimetype": "text/x-python",
   "name": "python",
   "nbconvert_exporter": "python",
   "pygments_lexer": "ipython3",
   "version": "3.8.10"
  }
 },
 "nbformat": 4,
 "nbformat_minor": 5
}
